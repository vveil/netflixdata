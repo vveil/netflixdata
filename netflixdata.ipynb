{
 "cells": [
  {
   "cell_type": "code",
   "execution_count": null,
   "id": "00f24045",
   "metadata": {},
   "outputs": [],
   "source": [
    "# all imports go here\n",
    "%matplotlib inline\n",
    "import pandas as pd\n",
    "import matplotlib as mpl"
   ]
  },
  {
   "cell_type": "code",
   "execution_count": null,
   "id": "341acdfc",
   "metadata": {},
   "outputs": [],
   "source": [
    "# read file into data-frame\n",
    "df = pd.read_csv('ViewingActivity.csv')\n",
    "\n",
    "df.shape"
   ]
  },
  {
   "cell_type": "code",
   "execution_count": null,
   "id": "bb32c988",
   "metadata": {},
   "outputs": [],
   "source": [
    "# take a little look at the data\n",
    "df.head()"
   ]
  },
  {
   "cell_type": "markdown",
   "id": "f67ea5ee",
   "metadata": {},
   "source": [
    "## Preparing the data"
   ]
  },
  {
   "cell_type": "code",
   "execution_count": null,
   "id": "95ac5bdb",
   "metadata": {},
   "outputs": [],
   "source": [
    "# rename the columns to easier to write names\n",
    "df.columns = ['name', 'startTime', 'duration', 'attr', 'title', 'suppVideoType', 'device', 'bookmark', 'latestBookmark', 'country']\n",
    "\n",
    "df.head()"
   ]
  },
  {
   "cell_type": "code",
   "execution_count": null,
   "id": "062b4f09",
   "metadata": {},
   "outputs": [],
   "source": [
    "# to remove user-specific lines from the data-frame uncomment the below line and change User1 to the name of the user\n",
    "# df = df[df['name'].str.contains('User1') == False]\n",
    "\n",
    "df.head()"
   ]
  },
  {
   "cell_type": "code",
   "execution_count": null,
   "id": "2b67deb1",
   "metadata": {},
   "outputs": [],
   "source": [
    "df.dtypes"
   ]
  },
  {
   "cell_type": "code",
   "execution_count": null,
   "id": "ccc423b0",
   "metadata": {},
   "outputs": [],
   "source": [
    "# convert startTime to datetime-format\n",
    "df['startTime'] = pd.to_datetime(df['startTime'], utc=True)\n",
    "\n",
    "df.dtypes"
   ]
  },
  {
   "cell_type": "code",
   "execution_count": null,
   "id": "a83f588a",
   "metadata": {},
   "outputs": [],
   "source": [
    "# make startTime into index\n",
    "df = df.set_index('startTime')\n",
    "\n",
    "# convert from utc to cet\n",
    "df.index = df.index.tz_convert('Europe/Berlin')\n",
    "\n",
    "# reset index -> startTime is column again\n",
    "df = df.reset_index()\n",
    "\n",
    "df.head()"
   ]
  },
  {
   "cell_type": "code",
   "execution_count": null,
   "id": "a9ca4b80",
   "metadata": {},
   "outputs": [],
   "source": [
    "# convert duration to timedelta\n",
    "df['duration'] = pd.to_timedelta(df['duration'])\n",
    "df.dtypes"
   ]
  },
  {
   "cell_type": "code",
   "execution_count": null,
   "id": "2b37d5c6",
   "metadata": {},
   "outputs": [],
   "source": [
    "# change show_name to show you want to analyze \n",
    "show_name = 'The Office (U.S.)'\n",
    "\n",
    "# remove other shows from data-frame\n",
    "show = df[df['title'].str.contains(show_name, regex=False)]\n",
    "\n",
    "show.shape"
   ]
  },
  {
   "cell_type": "code",
   "execution_count": null,
   "id": "799cc676",
   "metadata": {},
   "outputs": [],
   "source": [
    "show = show[(show['duration'] > '0 days 00:01:00')]\n",
    "show.shape"
   ]
  },
  {
   "cell_type": "code",
   "execution_count": null,
   "id": "57e4bb0b",
   "metadata": {},
   "outputs": [],
   "source": [
    "duration = show['duration'].sum()\n",
    "\n",
    "print('You watched', show_name, 'a duration of', duration)"
   ]
  },
  {
   "cell_type": "markdown",
   "id": "4afbb715",
   "metadata": {},
   "source": [
    "# Creating Some Diagrams Visualizing the Data"
   ]
  },
  {
   "cell_type": "code",
   "execution_count": null,
   "id": "fd70d30b",
   "metadata": {},
   "outputs": [],
   "source": [
    "# add weekday-column\n",
    "show['weekday'] = show['startTime'].dt.weekday\n",
    "\n",
    "# convert numbers of weekdays to actual weekday-names\n",
    "show['weekday'].replace({0: 'Monday', 1: 'Tuesday', 2: 'Wednesday', 3: 'Thursday', 4: 'Friday', 5: 'Saturday', 6: 'Sunday'}, inplace=True)\n",
    "\n",
    "# add hour-column\n",
    "show['hour'] = show['startTime'].dt.hour\n",
    "\n",
    "show.head()"
   ]
  },
  {
   "cell_type": "markdown",
   "id": "2ea5b60d",
   "metadata": {},
   "source": [
    "## Visualize Episodes Watched by Weekday"
   ]
  },
  {
   "cell_type": "code",
   "execution_count": null,
   "id": "58b90e28",
   "metadata": {},
   "outputs": [],
   "source": [
    "weekdays = ['Monday', 'Tuesday', 'Wednesday', 'Thursday', 'Friday', 'Saturday', 'Sunday']\n",
    "show['weekday'] = pd.Categorical(show['weekday'], categories=weekdays, ordered=True)\n",
    "\n",
    "show_by_day = show['weekday'].value_counts()\n",
    "show_by_day = show_by_day.sort_index()\n",
    "mpl.rcParams.update({'font.size': 22})\n",
    "show_by_day.plot(kind='bar', figsize=(30,10), title='Episodes Watched By Day')"
   ]
  },
  {
   "cell_type": "markdown",
   "id": "343505be",
   "metadata": {},
   "source": [
    "## Visualize Episodes Watched by Hour"
   ]
  },
  {
   "cell_type": "code",
   "execution_count": null,
   "id": "4f1041d5",
   "metadata": {},
   "outputs": [],
   "source": [
    "show['hour'] = pd.Categorical(show['hour'], categories=[0,1,2,3,4,5,6,7,8,9,10,11,12,13,14,15,16,17,18,19,20,21,22,23], ordered=True)\n",
    "show_by_hour = show['hour'].value_counts()\n",
    "show_by_hour = show_by_hour.sort_index()\n",
    "show_by_hour.plot(kind='bar', figsize=(30,10), title='Episodes Watched By Hour')"
   ]
  }
 ],
 "metadata": {
  "kernelspec": {
   "display_name": "Python 3 (ipykernel)",
   "language": "python",
   "name": "python3"
  },
  "language_info": {
   "codemirror_mode": {
    "name": "ipython",
    "version": 3
   },
   "file_extension": ".py",
   "mimetype": "text/x-python",
   "name": "python",
   "nbconvert_exporter": "python",
   "pygments_lexer": "ipython3",
   "version": "3.9.6"
  }
 },
 "nbformat": 4,
 "nbformat_minor": 5
}
